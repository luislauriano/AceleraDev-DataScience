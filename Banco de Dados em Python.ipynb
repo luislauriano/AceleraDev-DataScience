{
  "nbformat": 4,
  "nbformat_minor": 0,
  "metadata": {
    "colab": {
      "name": "Untitled0.ipynb",
      "provenance": [],
      "authorship_tag": "ABX9TyPDhUftuVb8je7qPazickZ/",
      "include_colab_link": true
    },
    "kernelspec": {
      "name": "python3",
      "display_name": "Python 3"
    }
  },
  "cells": [
    {
      "cell_type": "markdown",
      "metadata": {
        "id": "view-in-github",
        "colab_type": "text"
      },
      "source": [
        "<a href=\"https://colab.research.google.com/github/luislauriano/Materiais-de-estudo/blob/master/Banco%20de%20Dados%20em%20Python.ipynb\" target=\"_parent\"><img src=\"https://colab.research.google.com/assets/colab-badge.svg\" alt=\"Open In Colab\"/></a>"
      ]
    },
    {
      "cell_type": "markdown",
      "metadata": {
        "id": "jK9NMHLFjL1l"
      },
      "source": [
        "# **Acessando Banco de Dados com Python**"
      ]
    },
    {
      "cell_type": "code",
      "metadata": {
        "id": "TeTmzJNujArn"
      },
      "source": [
        "import os\r\n",
        "os.remove(\"escola (1).db\") if os.path.exists(\"escola (1).db \") else None"
      ],
      "execution_count": 1,
      "outputs": []
    },
    {
      "cell_type": "code",
      "metadata": {
        "id": "MOM0ukjloWoD"
      },
      "source": [
        "#Evitar erro de que a tabela já existe\r\n",
        "try:\r\n",
        "\t\tos.remove(\"escola (1).db\") \r\n",
        "except OSError:      \r\n",
        "\t\tpass"
      ],
      "execution_count": 2,
      "outputs": []
    },
    {
      "cell_type": "code",
      "metadata": {
        "id": "Xnp4_mFwklWF"
      },
      "source": [
        "import sqlite3"
      ],
      "execution_count": 3,
      "outputs": []
    },
    {
      "cell_type": "code",
      "metadata": {
        "id": "a0kr7lLSkoOb"
      },
      "source": [
        "#Criando uma conexao com o banco de dados Sqlite3\r\n",
        "con  = sqlite3.connect('escola (1).db')"
      ],
      "execution_count": 4,
      "outputs": []
    },
    {
      "cell_type": "code",
      "metadata": {
        "colab": {
          "base_uri": "https://localhost:8080/"
        },
        "id": "7u66litKku58",
        "outputId": "3b265c61-2228-4d7a-8d26-54b87e7edf8e"
      },
      "source": [
        "type(con)"
      ],
      "execution_count": 5,
      "outputs": [
        {
          "output_type": "execute_result",
          "data": {
            "text/plain": [
              "sqlite3.Connection"
            ]
          },
          "metadata": {
            "tags": []
          },
          "execution_count": 5
        }
      ]
    },
    {
      "cell_type": "code",
      "metadata": {
        "id": "rmnJ-wQ1k8dq"
      },
      "source": [
        "#Criando um cursor \r\n",
        "#Um cursor permite percorrer todos os registros em um conjunto de dados\r\n",
        "cur = con.cursor()"
      ],
      "execution_count": 6,
      "outputs": []
    },
    {
      "cell_type": "code",
      "metadata": {
        "colab": {
          "base_uri": "https://localhost:8080/"
        },
        "id": "aEaGffYElSX4",
        "outputId": "ac01b687-581e-4678-b333-859c638fd24e"
      },
      "source": [
        "type(cur)"
      ],
      "execution_count": 7,
      "outputs": [
        {
          "output_type": "execute_result",
          "data": {
            "text/plain": [
              "sqlite3.Cursor"
            ]
          },
          "metadata": {
            "tags": []
          },
          "execution_count": 7
        }
      ]
    },
    {
      "cell_type": "code",
      "metadata": {
        "id": "VkPadDtclXlY"
      },
      "source": [
        "# Cria uma instrução (tabela) sql\r\n",
        "sql_create = 'create table cursos '\\\r\n",
        "'(id integer primary key, '\\\r\n",
        "'titulo varchar(100), '\\\r\n",
        "'categoria varchar(140))'"
      ],
      "execution_count": 8,
      "outputs": []
    },
    {
      "cell_type": "code",
      "metadata": {
        "colab": {
          "base_uri": "https://localhost:8080/"
        },
        "id": "ppg4RggNmAmS",
        "outputId": "5697d79c-a9f7-4f92-9dbc-4960fe998470"
      },
      "source": [
        "# Executando a instrução sql no cursor/Criando a tabela\r\n",
        "cur.execute(sql_create)"
      ],
      "execution_count": 9,
      "outputs": [
        {
          "output_type": "execute_result",
          "data": {
            "text/plain": [
              "<sqlite3.Cursor at 0x7fd9d6322b20>"
            ]
          },
          "metadata": {
            "tags": []
          },
          "execution_count": 9
        }
      ]
    },
    {
      "cell_type": "markdown",
      "metadata": {
        "id": "J-DlfMkLo0N_"
      },
      "source": [
        "# **Usando cursor para inserir Registros**"
      ]
    },
    {
      "cell_type": "code",
      "metadata": {
        "id": "D-Ep1BSCmIiN"
      },
      "source": [
        "#Criando sentença (DML) para inserir registros\r\n",
        "sql_insert = 'insert into cursos values (?, ?, ?)'"
      ],
      "execution_count": 10,
      "outputs": []
    },
    {
      "cell_type": "code",
      "metadata": {
        "id": "jdhciAI7pisL"
      },
      "source": [
        "#Dados \r\n",
        "recset = [(1000, 'Ciência de Dados', 'Data Science'), \r\n",
        "         (1001, 'Big Data Fundamentos', 'Big Data'),\r\n",
        "         (1002, 'Python Fundamentos', 'Analise de Dados')]"
      ],
      "execution_count": 11,
      "outputs": []
    },
    {
      "cell_type": "code",
      "metadata": {
        "id": "0UncwH_2p_Uc"
      },
      "source": [
        "#Inserindo os registros\r\n",
        "for rec in recset:\r\n",
        "  cur.execute(sql_insert, rec)"
      ],
      "execution_count": 12,
      "outputs": []
    },
    {
      "cell_type": "code",
      "metadata": {
        "id": "1Rdy08nUqN-h"
      },
      "source": [
        "#Gravar a transação (os dados na tabela)\r\n",
        "con.commit()"
      ],
      "execution_count": 13,
      "outputs": []
    },
    {
      "cell_type": "code",
      "metadata": {
        "id": "Nxn14s1HqRyb"
      },
      "source": [
        "#Criando sentença SQL para selecionar os registros\r\n",
        "sql_select = 'select *from cursos'"
      ],
      "execution_count": 14,
      "outputs": []
    },
    {
      "cell_type": "code",
      "metadata": {
        "id": "-0BA-pdYqicf"
      },
      "source": [
        "#Seleciona todos os registros e recupera os registros\r\n",
        "cur.execute(sql_select)\r\n",
        "dados = cur.fetchall()"
      ],
      "execution_count": 15,
      "outputs": []
    },
    {
      "cell_type": "code",
      "metadata": {
        "colab": {
          "base_uri": "https://localhost:8080/"
        },
        "id": "FKQQN0rcq5r6",
        "outputId": "abb6bd1e-322a-4189-9688-d5888e9090bb"
      },
      "source": [
        "#Mostrar a tabela\r\n",
        "for linha in dados:\r\n",
        "  print('Curso Id: %d, titulo: %s, categoria: %s \\n' % linha)"
      ],
      "execution_count": 16,
      "outputs": [
        {
          "output_type": "stream",
          "text": [
            "Curso Id: 1000, titulo: Ciência de Dados, categoria: Data Science \n",
            "\n",
            "Curso Id: 1001, titulo: Big Data Fundamentos, categoria: Big Data \n",
            "\n",
            "Curso Id: 1002, titulo: Python Fundamentos, categoria: Analise de Dados \n",
            "\n"
          ],
          "name": "stdout"
        }
      ]
    },
    {
      "cell_type": "code",
      "metadata": {
        "id": "eyvKltPnrN0H"
      },
      "source": [
        "#Gerando outros registros\r\n",
        "\r\n",
        "recset = [(1003, 'Gestão de Dados com MongoDB', 'Big Data'),\r\n",
        "          (1004, 'R Fundamentos', 'Análise de Dados')]\r\n",
        "\r\n",
        "# Inserindo os registros\r\n",
        "for rec in recset:\r\n",
        "  cur.execute(sql_insert, rec)\r\n",
        "\r\n",
        "# Gravando a transação\r\n",
        "con.commit()"
      ],
      "execution_count": 17,
      "outputs": []
    },
    {
      "cell_type": "code",
      "metadata": {
        "colab": {
          "base_uri": "https://localhost:8080/"
        },
        "id": "kVzwsi16r-rV",
        "outputId": "67828422-3f75-483f-95bc-49cc0ebca898"
      },
      "source": [
        "#Seleciona todos os registros \r\n",
        "cur.execute('select * from cursos')\r\n",
        "\r\n",
        "#Recupera os resultados\r\n",
        "recset = cur.fetchall()\r\n",
        "\r\n",
        "#Mostra \r\n",
        "for rec in recset:\r\n",
        "  print('Curso Id: %d, titulo: %s, categoria: %s \\n' % rec)"
      ],
      "execution_count": 18,
      "outputs": [
        {
          "output_type": "stream",
          "text": [
            "Curso Id: 1000, titulo: Ciência de Dados, categoria: Data Science \n",
            "\n",
            "Curso Id: 1001, titulo: Big Data Fundamentos, categoria: Big Data \n",
            "\n",
            "Curso Id: 1002, titulo: Python Fundamentos, categoria: Analise de Dados \n",
            "\n",
            "Curso Id: 1003, titulo: Gestão de Dados com MongoDB, categoria: Big Data \n",
            "\n",
            "Curso Id: 1004, titulo: R Fundamentos, categoria: Análise de Dados \n",
            "\n"
          ],
          "name": "stdout"
        }
      ]
    },
    {
      "cell_type": "code",
      "metadata": {
        "id": "1e29zWGjtaC_"
      },
      "source": [
        "#Fecha a conexao \r\n",
        "con.close()"
      ],
      "execution_count": 19,
      "outputs": []
    },
    {
      "cell_type": "markdown",
      "metadata": {
        "id": "_AfdUouYvwU4"
      },
      "source": [
        "# **Algo que pode ser feito é utilizar o SQLite Browser para consultar os dados da tabela**"
      ]
    },
    {
      "cell_type": "code",
      "metadata": {
        "id": "Tdl6Fjwyv6bK"
      },
      "source": [
        ""
      ],
      "execution_count": 19,
      "outputs": []
    },
    {
      "cell_type": "markdown",
      "metadata": {
        "id": "2aC3knMlwV8d"
      },
      "source": [
        "# **Criando o Banco de Dados e Inserindo Dados**"
      ]
    },
    {
      "cell_type": "code",
      "metadata": {
        "id": "unOajiv9wcMw"
      },
      "source": [
        "#Evitar erro de que a tabela já existe\r\n",
        "try:\r\n",
        "\t\tos.remove(\"dsa.db\") \r\n",
        "except OSError:      \r\n",
        "\t\tpass"
      ],
      "execution_count": 20,
      "outputs": []
    },
    {
      "cell_type": "code",
      "metadata": {
        "id": "OuTuCADZwyxu"
      },
      "source": [
        "import sqlite3 \r\n",
        "\r\n",
        "#Criando uma conexao\r\n",
        "conn = sqlite3.connect('dsa.db')\r\n",
        "\r\n",
        "#Criando um cursor\r\n",
        "c = conn.cursor()\r\n",
        "\r\n",
        "#Função para criar uma tabela \r\n",
        "def create_table():\r\n",
        "  c.execute('CREATE TABLE IF NOT EXISTS produtos(id INTEGER PRIMARY KEY AUTOINCREMENT NOT NULL, date TEXT, '\\\r\n",
        "            'prod_name TEXT, valor REAL)')\r\n",
        "\r\n",
        "#Função para inserir os dados na tabela\r\n",
        "def data_insert():\r\n",
        "  c.execute(\"INSERT INTO produtos VALUES(10, '2018-05-02 14:32:11', 'Teclado', 90) \")\r\n",
        "  conn.commit()\r\n",
        "  c.close()\r\n",
        "  conn.close()"
      ],
      "execution_count": 21,
      "outputs": []
    },
    {
      "cell_type": "code",
      "metadata": {
        "id": "sBrotKNhx2gi"
      },
      "source": [
        "#Criar a tabela\r\n",
        "create_table()"
      ],
      "execution_count": 22,
      "outputs": []
    },
    {
      "cell_type": "code",
      "metadata": {
        "id": "1UutcYV6x5NM"
      },
      "source": [
        "#Inserir dados\r\n",
        "data_insert()"
      ],
      "execution_count": 23,
      "outputs": []
    },
    {
      "cell_type": "markdown",
      "metadata": {
        "id": "INUmKds_25Z8"
      },
      "source": [
        "# **Instruções Insert no SQLite com Variaveis em Python**"
      ]
    },
    {
      "cell_type": "code",
      "metadata": {
        "id": "YHGPQ63v3Hk0"
      },
      "source": [
        "import sqlite3\r\n",
        "import random\r\n",
        "import time\r\n",
        "import datetime\r\n",
        "\r\n",
        "# Criando uma conexão \r\n",
        "conn = sqlite3.connect('dsa.db')\r\n",
        "\r\n",
        "# Criando um cursor\r\n",
        "c = conn.cursor()\r\n",
        "\r\n",
        "# Função para criar uma tabela \r\n",
        "def create_table():\r\n",
        "  c.execute('CREATE TABLE IF NOT EXISTS produtos(id INTEGER PRIMARY KEY AUTOINCREMENT NOT NULL, date TEXT, '\\\r\n",
        "            'prod_name TEXT, valor REAL)')\r\n",
        "\r\n",
        "# Função para inserir os dados na tabela\r\n",
        "def data_insert():\r\n",
        "  c.execute(\"INSERT INTO produtos VALUES('2018-05-02 12:34:45', 'Teclado', 130.00)\")\r\n",
        "  conn.commit()\r\n",
        "  c.close()\r\n",
        "  conn.close()\r\n",
        "\r\n",
        "#Usando variáveis do Python para inserir novos dados na tabela\r\n",
        "def data_insert_var(): \r\n",
        "  new_date = datetime.datetime.now()\r\n",
        "  new_prod_name = 'Monitor'\r\n",
        "  new_valor = random.randrange(50, 100)\r\n",
        "  c.execute('INSERT INTO produtos (date, prod_name, valor) VALUES (?, ?, ?)', (new_date, new_prod_name, new_valor))\r\n",
        "  conn.commit()"
      ],
      "execution_count": 24,
      "outputs": []
    },
    {
      "cell_type": "code",
      "metadata": {
        "id": "yuHX8B6b5AMT"
      },
      "source": [
        "#Gerando valores e inserindo na tabela\r\n",
        "for i in range(10):\r\n",
        "  data_insert_var()\r\n",
        "  time.sleep(1)"
      ],
      "execution_count": 25,
      "outputs": []
    },
    {
      "cell_type": "code",
      "metadata": {
        "id": "Z5tf4FwS5vRW"
      },
      "source": [
        "#Encerrando a conexão\r\n",
        "c.close()\r\n",
        "conn.close()\r\n"
      ],
      "execution_count": 26,
      "outputs": []
    },
    {
      "cell_type": "markdown",
      "metadata": {
        "id": "bg0vM7f363gl"
      },
      "source": [
        "# **Instruções Select no SQLite com Python**"
      ]
    },
    {
      "cell_type": "code",
      "metadata": {
        "id": "9M27Dk9n53EX"
      },
      "source": [
        "import sqlite3\r\n",
        "import random\r\n",
        "import time\r\n",
        "import datetime\r\n",
        "\r\n",
        "# Criando uma conexão \r\n",
        "conn = sqlite3.connect('dsa.db')\r\n",
        "\r\n",
        "# Criando um cursor\r\n",
        "c = conn.cursor()\r\n",
        "\r\n",
        "# Função para criar uma tabela \r\n",
        "def create_table():\r\n",
        "  c.execute('CREATE TABLE IF NOT EXISTS produtos(id INTEGER PRIMARY KEY AUTOINCREMENT NOT NULL, date TEXT, '\\\r\n",
        "            'prod_name TEXT, valor REAL)')\r\n",
        "\r\n",
        "# Função para inserir os dados na tabela\r\n",
        "def data_insert():\r\n",
        "  c.execute(\"INSERT INTO produtos VALUES('2018-05-02 12:34:45', 'Teclado', 130.00)\")\r\n",
        "  conn.commit()\r\n",
        "  c.close()\r\n",
        "  conn.close()\r\n",
        "\r\n",
        "#Usando variáveis do Python para inserir novos dados na tabela\r\n",
        "def data_insert_var(): \r\n",
        "  new_date = datetime.datetime.now()\r\n",
        "  new_prod_name = 'Monitor'\r\n",
        "  new_valor = random.randrange(50, 100)\r\n",
        "  c.execute('INSERT INTO produtos (date, prod_name, valor) VALUES (?, ?, ?)', (new_date, new_prod_name, new_valor))\r\n",
        "  conn.commit()\r\n",
        "\r\n",
        "\r\n",
        "\r\n",
        "# Leitura de dados\r\n",
        "def ler_todos_dados():\r\n",
        "  c.execute(\"SELECT * FROM PRODUTOS\")\r\n",
        "  for linha in c.fetchall():\r\n",
        "    print(linha)\r\n",
        "\r\n",
        "# Leitura de registros específicos\r\n",
        "def leitura_registros():\r\n",
        "  c.execute(\"SELECT * FROM PRODUTOS WHERE valor > 60.0\")\r\n",
        "  for linha in c.fetchall():\r\n",
        "    print(linha)\r\n",
        "\r\n",
        "# Leitura de colunas específicas\r\n",
        "def leitura_colunas():\r\n",
        "  c.execute(\"SELECT * FROM PRODUTOS\")\r\n",
        "  for linha in c.fetchall():\r\n",
        "    print(linha[3])"
      ],
      "execution_count": 27,
      "outputs": []
    },
    {
      "cell_type": "code",
      "metadata": {
        "colab": {
          "base_uri": "https://localhost:8080/"
        },
        "id": "vb-0QJNj78p9",
        "outputId": "b24408fd-a706-48a0-e26f-57cd5a79f75d"
      },
      "source": [
        "#Select nos dados\r\n",
        "ler_todos_dados()"
      ],
      "execution_count": 28,
      "outputs": [
        {
          "output_type": "stream",
          "text": [
            "(10, '2018-05-02 14:32:11', 'Teclado', 90.0)\n",
            "(11, '2020-12-16 12:50:45.103955', 'Monitor', 58.0)\n",
            "(12, '2020-12-16 12:50:46.113438', 'Monitor', 53.0)\n",
            "(13, '2020-12-16 12:50:47.122327', 'Monitor', 61.0)\n",
            "(14, '2020-12-16 12:50:48.131928', 'Monitor', 94.0)\n",
            "(15, '2020-12-16 12:50:49.141821', 'Monitor', 94.0)\n",
            "(16, '2020-12-16 12:50:50.151484', 'Monitor', 61.0)\n",
            "(17, '2020-12-16 12:50:51.160985', 'Monitor', 78.0)\n",
            "(18, '2020-12-16 12:50:52.170745', 'Monitor', 66.0)\n",
            "(19, '2020-12-16 12:50:53.180235', 'Monitor', 79.0)\n",
            "(20, '2020-12-16 12:50:54.190036', 'Monitor', 90.0)\n"
          ],
          "name": "stdout"
        }
      ]
    },
    {
      "cell_type": "code",
      "metadata": {
        "colab": {
          "base_uri": "https://localhost:8080/"
        },
        "id": "LkZaXqRB8B5Z",
        "outputId": "d7ec989f-db89-4b23-aebf-0a39005f772f"
      },
      "source": [
        "#Leitura de registros especificos \r\n",
        "leitura_registros()"
      ],
      "execution_count": 29,
      "outputs": [
        {
          "output_type": "stream",
          "text": [
            "(10, '2018-05-02 14:32:11', 'Teclado', 90.0)\n",
            "(13, '2020-12-16 12:50:47.122327', 'Monitor', 61.0)\n",
            "(14, '2020-12-16 12:50:48.131928', 'Monitor', 94.0)\n",
            "(15, '2020-12-16 12:50:49.141821', 'Monitor', 94.0)\n",
            "(16, '2020-12-16 12:50:50.151484', 'Monitor', 61.0)\n",
            "(17, '2020-12-16 12:50:51.160985', 'Monitor', 78.0)\n",
            "(18, '2020-12-16 12:50:52.170745', 'Monitor', 66.0)\n",
            "(19, '2020-12-16 12:50:53.180235', 'Monitor', 79.0)\n",
            "(20, '2020-12-16 12:50:54.190036', 'Monitor', 90.0)\n"
          ],
          "name": "stdout"
        }
      ]
    },
    {
      "cell_type": "code",
      "metadata": {
        "colab": {
          "base_uri": "https://localhost:8080/"
        },
        "id": "gmm4I7h58Lp_",
        "outputId": "606b6018-fcfc-4169-8f13-917e095bd2ac"
      },
      "source": [
        "# Leitura de colunas especificas\r\n",
        "leitura_colunas()"
      ],
      "execution_count": 30,
      "outputs": [
        {
          "output_type": "stream",
          "text": [
            "90.0\n",
            "58.0\n",
            "53.0\n",
            "61.0\n",
            "94.0\n",
            "94.0\n",
            "61.0\n",
            "78.0\n",
            "66.0\n",
            "79.0\n",
            "90.0\n"
          ],
          "name": "stdout"
        }
      ]
    },
    {
      "cell_type": "code",
      "metadata": {
        "id": "JLCtXu858vTP"
      },
      "source": [
        "# Encerrando a conexao\r\n",
        "c.close()\r\n",
        "conn.close()"
      ],
      "execution_count": 31,
      "outputs": []
    },
    {
      "cell_type": "markdown",
      "metadata": {
        "id": "Okl_A95OlpJk"
      },
      "source": [
        "# **Instruções Update e Delete no SQLite com Python**"
      ]
    },
    {
      "cell_type": "code",
      "metadata": {
        "id": "55ac-ly1lzFk"
      },
      "source": [
        "import sqlite3\r\n",
        "import random\r\n",
        "import time\r\n",
        "import datetime\r\n",
        "\r\n",
        "# Criando uma conexão \r\n",
        "conn = sqlite3.connect('dsa.db')\r\n",
        "\r\n",
        "# Criando um cursor\r\n",
        "c = conn.cursor()\r\n",
        "\r\n",
        "# Função para criar uma tabela \r\n",
        "def create_table():\r\n",
        "  c.execute('CREATE TABLE IF NOT EXISTS produtos(id INTEGER PRIMARY KEY AUTOINCREMENT NOT NULL, date TEXT, '\\\r\n",
        "            'prod_name TEXT, valor REAL)')\r\n",
        "\r\n",
        "# Função para inserir os dados na tabela\r\n",
        "def data_insert():\r\n",
        "  c.execute(\"INSERT INTO produtos VALUES('2018-05-02 12:34:45', 'Teclado', 130.00)\")\r\n",
        "  conn.commit()\r\n",
        "  c.close()\r\n",
        "  conn.close()\r\n",
        "\r\n",
        "#Usando variáveis do Python para inserir novos dados na tabela\r\n",
        "def data_insert_var(): \r\n",
        "  new_date = datetime.datetime.now()\r\n",
        "  new_prod_name = 'Monitor'\r\n",
        "  new_valor = random.randrange(50, 100)\r\n",
        "  c.execute('INSERT INTO produtos (date, prod_name, valor) VALUES (?, ?, ?)', (new_date, new_prod_name, new_valor))\r\n",
        "  conn.commit()\r\n",
        "\r\n",
        "\r\n",
        "\r\n",
        "# Leitura de dados\r\n",
        "def ler_todos_dados():\r\n",
        "  c.execute(\"SELECT * FROM PRODUTOS\")\r\n",
        "  for linha in c.fetchall():\r\n",
        "    print(linha)\r\n",
        "\r\n",
        "# Leitura de registros específicos\r\n",
        "def leitura_registros():\r\n",
        "  c.execute(\"SELECT * FROM PRODUTOS WHERE valor > 60.0\")\r\n",
        "  for linha in c.fetchall():\r\n",
        "    print(linha)\r\n",
        "\r\n",
        "# Leitura de colunas específicas\r\n",
        "def leitura_colunas():\r\n",
        "  c.execute(\"SELECT * FROM PRODUTOS\")\r\n",
        "  for linha in c.fetchall():\r\n",
        "    print(linha[3])\r\n",
        "\r\n",
        "\r\n",
        "\r\n",
        "#Update\r\n",
        "def atualiza_dados():\r\n",
        "  c.execute('UPDATE produtos SET valor = 70.0 WHERE valor = 80.0')\r\n",
        "  conn.commit()\r\n",
        "\r\n",
        "#Delete\r\n",
        "def remove_dados():\r\n",
        "  c.execute(\"DELETE FROM produtos WHERE valor = 60.0\")\r\n",
        "  conn.commit()"
      ],
      "execution_count": 32,
      "outputs": []
    },
    {
      "cell_type": "code",
      "metadata": {
        "id": "LpTMYVa4mmUK"
      },
      "source": [
        "atualiza_dados()"
      ],
      "execution_count": 33,
      "outputs": []
    },
    {
      "cell_type": "code",
      "metadata": {
        "id": "TpLzD4eMmoDA"
      },
      "source": [
        "remove_dados()"
      ],
      "execution_count": 34,
      "outputs": []
    },
    {
      "cell_type": "code",
      "metadata": {
        "id": "I8_y5degmpmh",
        "outputId": "77389e79-a1c9-4987-d286-7246123b292b",
        "colab": {
          "base_uri": "https://localhost:8080/"
        }
      },
      "source": [
        "ler_todos_dados()"
      ],
      "execution_count": 35,
      "outputs": [
        {
          "output_type": "stream",
          "text": [
            "(10, '2018-05-02 14:32:11', 'Teclado', 90.0)\n",
            "(11, '2020-12-16 12:50:45.103955', 'Monitor', 58.0)\n",
            "(12, '2020-12-16 12:50:46.113438', 'Monitor', 53.0)\n",
            "(13, '2020-12-16 12:50:47.122327', 'Monitor', 61.0)\n",
            "(14, '2020-12-16 12:50:48.131928', 'Monitor', 94.0)\n",
            "(15, '2020-12-16 12:50:49.141821', 'Monitor', 94.0)\n",
            "(16, '2020-12-16 12:50:50.151484', 'Monitor', 61.0)\n",
            "(17, '2020-12-16 12:50:51.160985', 'Monitor', 78.0)\n",
            "(18, '2020-12-16 12:50:52.170745', 'Monitor', 66.0)\n",
            "(19, '2020-12-16 12:50:53.180235', 'Monitor', 79.0)\n",
            "(20, '2020-12-16 12:50:54.190036', 'Monitor', 90.0)\n"
          ],
          "name": "stdout"
        }
      ]
    },
    {
      "cell_type": "code",
      "metadata": {
        "id": "MhY03YgxnPRU"
      },
      "source": [
        ""
      ],
      "execution_count": null,
      "outputs": []
    }
  ]
}
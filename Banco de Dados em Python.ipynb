{
  "nbformat": 4,
  "nbformat_minor": 0,
  "metadata": {
    "colab": {
      "name": "Untitled0.ipynb",
      "provenance": [],
      "authorship_tag": "ABX9TyOkGTwTrGa9w4GWxv8io2z/",
      "include_colab_link": true
    },
    "kernelspec": {
      "name": "python3",
      "display_name": "Python 3"
    }
  },
  "cells": [
    {
      "cell_type": "markdown",
      "metadata": {
        "id": "view-in-github",
        "colab_type": "text"
      },
      "source": [
        "<a href=\"https://colab.research.google.com/github/luislauriano/Materiais-de-estudo/blob/master/Banco%20de%20Dados%20em%20Python.ipynb\" target=\"_parent\"><img src=\"https://colab.research.google.com/assets/colab-badge.svg\" alt=\"Open In Colab\"/></a>"
      ]
    },
    {
      "cell_type": "markdown",
      "metadata": {
        "id": "jK9NMHLFjL1l"
      },
      "source": [
        "# **Acessando Banco de Dados com Python**"
      ]
    },
    {
      "cell_type": "code",
      "metadata": {
        "id": "TeTmzJNujArn"
      },
      "source": [
        "import os\r\n",
        "os.remove(\"escola (1).db\") if os.path.exists(\"escola (1).db \") else None"
      ],
      "execution_count": 41,
      "outputs": []
    },
    {
      "cell_type": "code",
      "metadata": {
        "id": "MOM0ukjloWoD"
      },
      "source": [
        "#Evitar erro de que a tabela já existe\r\n",
        "try:\r\n",
        "\t\tos.remove(\"escola (1).db\") \r\n",
        "except OSError:      \r\n",
        "\t\tpass"
      ],
      "execution_count": 42,
      "outputs": []
    },
    {
      "cell_type": "code",
      "metadata": {
        "id": "Xnp4_mFwklWF"
      },
      "source": [
        "import sqlite3"
      ],
      "execution_count": 43,
      "outputs": []
    },
    {
      "cell_type": "code",
      "metadata": {
        "id": "a0kr7lLSkoOb"
      },
      "source": [
        "#Criando uma conexao com o banco de dados Sqlite3\r\n",
        "con  = sqlite3.connect('escola (1).db')"
      ],
      "execution_count": 44,
      "outputs": []
    },
    {
      "cell_type": "code",
      "metadata": {
        "colab": {
          "base_uri": "https://localhost:8080/"
        },
        "id": "7u66litKku58",
        "outputId": "4a36a0a6-5850-4547-ad86-98c9d47174cf"
      },
      "source": [
        "type(con)"
      ],
      "execution_count": 45,
      "outputs": [
        {
          "output_type": "execute_result",
          "data": {
            "text/plain": [
              "sqlite3.Connection"
            ]
          },
          "metadata": {
            "tags": []
          },
          "execution_count": 45
        }
      ]
    },
    {
      "cell_type": "code",
      "metadata": {
        "id": "rmnJ-wQ1k8dq"
      },
      "source": [
        "#Criando um cursor \r\n",
        "#Um cursor permite percorrer todos os registros em um conjunto de dados\r\n",
        "cur = con.cursor()"
      ],
      "execution_count": 46,
      "outputs": []
    },
    {
      "cell_type": "code",
      "metadata": {
        "colab": {
          "base_uri": "https://localhost:8080/"
        },
        "id": "aEaGffYElSX4",
        "outputId": "d28dddeb-2953-4b9f-d6f9-50fe7ea0ee8b"
      },
      "source": [
        "type(cur)"
      ],
      "execution_count": 47,
      "outputs": [
        {
          "output_type": "execute_result",
          "data": {
            "text/plain": [
              "sqlite3.Cursor"
            ]
          },
          "metadata": {
            "tags": []
          },
          "execution_count": 47
        }
      ]
    },
    {
      "cell_type": "code",
      "metadata": {
        "id": "VkPadDtclXlY"
      },
      "source": [
        "# Cria uma instrução (tabela) sql\r\n",
        "sql_create = 'create table cursos '\\\r\n",
        "'(id integer primary key, '\\\r\n",
        "'titulo varchar(100), '\\\r\n",
        "'categoria varchar(140))'"
      ],
      "execution_count": 48,
      "outputs": []
    },
    {
      "cell_type": "code",
      "metadata": {
        "colab": {
          "base_uri": "https://localhost:8080/"
        },
        "id": "ppg4RggNmAmS",
        "outputId": "ab007c46-b23c-4607-a24e-793f3d6cb661"
      },
      "source": [
        "# Executando a instrução sql no cursor/Criando a tabela\r\n",
        "cur.execute(sql_create)"
      ],
      "execution_count": 49,
      "outputs": [
        {
          "output_type": "execute_result",
          "data": {
            "text/plain": [
              "<sqlite3.Cursor at 0x7febecb998f0>"
            ]
          },
          "metadata": {
            "tags": []
          },
          "execution_count": 49
        }
      ]
    },
    {
      "cell_type": "markdown",
      "metadata": {
        "id": "J-DlfMkLo0N_"
      },
      "source": [
        "# **Usando cursor para inserir Registros**"
      ]
    },
    {
      "cell_type": "code",
      "metadata": {
        "id": "D-Ep1BSCmIiN"
      },
      "source": [
        "#Criando sentença (DML) para inserir registros\r\n",
        "sql_insert = 'insert into cursos values (?, ?, ?)'"
      ],
      "execution_count": 50,
      "outputs": []
    },
    {
      "cell_type": "code",
      "metadata": {
        "id": "jdhciAI7pisL"
      },
      "source": [
        "#Dados \r\n",
        "recset = [(1000, 'Ciência de Dados', 'Data Science'), \r\n",
        "         (1001, 'Big Data Fundamentos', 'Big Data'),\r\n",
        "         (1002, 'Python Fundamentos', 'Analise de Dados')]"
      ],
      "execution_count": 51,
      "outputs": []
    },
    {
      "cell_type": "code",
      "metadata": {
        "id": "0UncwH_2p_Uc"
      },
      "source": [
        "#Inserindo os registros\r\n",
        "for rec in recset:\r\n",
        "  cur.execute(sql_insert, rec)"
      ],
      "execution_count": 52,
      "outputs": []
    },
    {
      "cell_type": "code",
      "metadata": {
        "id": "1Rdy08nUqN-h"
      },
      "source": [
        "#Gravar a transação (os dados na tabela)\r\n",
        "con.commit()"
      ],
      "execution_count": 53,
      "outputs": []
    },
    {
      "cell_type": "code",
      "metadata": {
        "id": "Nxn14s1HqRyb"
      },
      "source": [
        "#Criando sentença SQL para selecionar os registros\r\n",
        "sql_select = 'select *from cursos'"
      ],
      "execution_count": 54,
      "outputs": []
    },
    {
      "cell_type": "code",
      "metadata": {
        "id": "-0BA-pdYqicf"
      },
      "source": [
        "#Seleciona todos os registros e recupera os registros\r\n",
        "cur.execute(sql_select)\r\n",
        "dados = cur.fetchall()"
      ],
      "execution_count": 55,
      "outputs": []
    },
    {
      "cell_type": "code",
      "metadata": {
        "colab": {
          "base_uri": "https://localhost:8080/"
        },
        "id": "FKQQN0rcq5r6",
        "outputId": "59677584-bede-4ce0-ca99-578a042b9a2d"
      },
      "source": [
        "#Mostrar a tabela\r\n",
        "for linha in dados:\r\n",
        "  print('Curso Id: %d, titulo: %s, categoria: %s \\n' % linha)"
      ],
      "execution_count": 56,
      "outputs": [
        {
          "output_type": "stream",
          "text": [
            "Curso Id: 1000, titulo: Ciência de Dados, categoria: Data Science \n",
            "\n",
            "Curso Id: 1001, titulo: Big Data Fundamentos, categoria: Big Data \n",
            "\n",
            "Curso Id: 1002, titulo: Python Fundamentos, categoria: Analise de Dados \n",
            "\n"
          ],
          "name": "stdout"
        }
      ]
    },
    {
      "cell_type": "code",
      "metadata": {
        "id": "eyvKltPnrN0H"
      },
      "source": [
        "#Gerando outros registros\r\n",
        "\r\n",
        "recset = [(1003, 'Gestão de Dados com MongoDB', 'Big Data'),\r\n",
        "          (1004, 'R Fundamentos', 'Análise de Dados')]\r\n",
        "\r\n",
        "# Inserindo os registros\r\n",
        "for rec in recset:\r\n",
        "  cur.execute(sql_insert, rec)\r\n",
        "\r\n",
        "# Gravando a transação\r\n",
        "con.commit()"
      ],
      "execution_count": 57,
      "outputs": []
    },
    {
      "cell_type": "code",
      "metadata": {
        "colab": {
          "base_uri": "https://localhost:8080/"
        },
        "id": "kVzwsi16r-rV",
        "outputId": "4ff65965-9a61-4362-c853-e34b98439a70"
      },
      "source": [
        "#Seleciona todos os registros \r\n",
        "cur.execute('select * from cursos')\r\n",
        "\r\n",
        "#Recupera os resultados\r\n",
        "recset = cur.fetchall()\r\n",
        "\r\n",
        "#Mostra \r\n",
        "for rec in recset:\r\n",
        "  print('Curso Id: %d, titulo: %s, categoria: %s \\n' % rec)"
      ],
      "execution_count": 58,
      "outputs": [
        {
          "output_type": "stream",
          "text": [
            "Curso Id: 1000, titulo: Ciência de Dados, categoria: Data Science \n",
            "\n",
            "Curso Id: 1001, titulo: Big Data Fundamentos, categoria: Big Data \n",
            "\n",
            "Curso Id: 1002, titulo: Python Fundamentos, categoria: Analise de Dados \n",
            "\n",
            "Curso Id: 1003, titulo: Gestão de Dados com MongoDB, categoria: Big Data \n",
            "\n",
            "Curso Id: 1004, titulo: R Fundamentos, categoria: Análise de Dados \n",
            "\n"
          ],
          "name": "stdout"
        }
      ]
    },
    {
      "cell_type": "code",
      "metadata": {
        "id": "1e29zWGjtaC_"
      },
      "source": [
        "#Fecha a conexao \r\n",
        "con.close()"
      ],
      "execution_count": 59,
      "outputs": []
    },
    {
      "cell_type": "markdown",
      "metadata": {
        "id": "_AfdUouYvwU4"
      },
      "source": [
        "# **Algo que pode ser feito é utilizar o SQLite Browser para consultar os dados da tabela**"
      ]
    },
    {
      "cell_type": "code",
      "metadata": {
        "id": "Tdl6Fjwyv6bK"
      },
      "source": [
        ""
      ],
      "execution_count": null,
      "outputs": []
    },
    {
      "cell_type": "markdown",
      "metadata": {
        "id": "2aC3knMlwV8d"
      },
      "source": [
        "# **Criando o Banco de Dados e Inserindo Dados**"
      ]
    },
    {
      "cell_type": "code",
      "metadata": {
        "id": "unOajiv9wcMw"
      },
      "source": [
        "#Evitar erro de que a tabela já existe\r\n",
        "try:\r\n",
        "\t\tos.remove(\"dsa.db\") \r\n",
        "except OSError:      \r\n",
        "\t\tpass"
      ],
      "execution_count": 60,
      "outputs": []
    },
    {
      "cell_type": "code",
      "metadata": {
        "id": "OuTuCADZwyxu"
      },
      "source": [
        "import sqlite3 \r\n",
        "\r\n",
        "#Criando uma conexao\r\n",
        "conn = sqlite3.connect('dsa.db')\r\n",
        "\r\n",
        "#Criando um cursor\r\n",
        "c = conn.cursor()\r\n",
        "\r\n",
        "#Função para criar uma tabela \r\n",
        "def create_table():\r\n",
        "  c.execute('CREATE TABLE IF NOT EXISTS produtos(id INTEGER PRIMARY KEY AUTOINCREMENT NOT NULL, date TEXT, '\\\r\n",
        "            'prod_name TEXT, valor REAL)')\r\n",
        "\r\n",
        "#Função para inserir os dados na tabela\r\n",
        "def data_insert():\r\n",
        "  c.execute(\"INSERT INTO produtos VALUES(10, '2018-05-02 14:32:11', 'Teclado', 90) \")\r\n",
        "  conn.commit()\r\n",
        "  c.close()\r\n",
        "  conn.close()"
      ],
      "execution_count": 66,
      "outputs": []
    },
    {
      "cell_type": "code",
      "metadata": {
        "id": "sBrotKNhx2gi"
      },
      "source": [
        "#Criar a tabela\r\n",
        "create_table()"
      ],
      "execution_count": 64,
      "outputs": []
    },
    {
      "cell_type": "code",
      "metadata": {
        "id": "1UutcYV6x5NM"
      },
      "source": [
        "#Inserir dados\r\n",
        "data_insert()"
      ],
      "execution_count": 65,
      "outputs": []
    },
    {
      "cell_type": "markdown",
      "metadata": {
        "id": "INUmKds_25Z8"
      },
      "source": [
        "# **Instruções Insert no SQLite com Variaveis em Python**"
      ]
    },
    {
      "cell_type": "code",
      "metadata": {
        "id": "YHGPQ63v3Hk0"
      },
      "source": [
        "import sqlite3\r\n",
        "import random\r\n",
        "import time\r\n",
        "import datetime\r\n",
        "\r\n",
        "# Criando uma conexão \r\n",
        "conn = sqlite3.connect('dsa.db')\r\n",
        "\r\n",
        "# Criando um cursor\r\n",
        "c = conn.cursor()\r\n",
        "\r\n",
        "# Função para criar uma tabela \r\n",
        "def create_table():\r\n",
        "  c.execute('CREATE TABLE IF NOT EXISTS produtos(id INTEGER PRIMARY KEY AUTOINCREMENT NOT NULL, date TEXT, '\\\r\n",
        "            'prod_name TEXT, valor REAL)')\r\n",
        "\r\n",
        "# Função para inserir os dados na tabela\r\n",
        "def data_insert():\r\n",
        "  c.execute(\"INSERT INTO produtos VALUES('2018-05-02 12:34:45', 'Teclado', 130.00)\")\r\n",
        "  conn.commit()\r\n",
        "  c.close()\r\n",
        "  conn.close()\r\n",
        "\r\n",
        "#Usando variáveis do Python para inserir novos dados na tabela\r\n",
        "def data_insert_var(): \r\n",
        "  new_date = datetime.datetime.now()\r\n",
        "  new_prod_name = 'Monitor'\r\n",
        "  new_valor = random.randrange(50, 100)\r\n",
        "  c.execute('INSERT INTO produtos (date, prod_name, valor) VALUES (?, ?, ?)', (new_date, new_prod_name, new_valor))\r\n",
        "  conn.commit()"
      ],
      "execution_count": 67,
      "outputs": []
    },
    {
      "cell_type": "code",
      "metadata": {
        "id": "yuHX8B6b5AMT"
      },
      "source": [
        "#Gerando valores e inserindo na tabela\r\n",
        "for i in range(10):\r\n",
        "  data_insert_var()\r\n",
        "  time.sleep(1)"
      ],
      "execution_count": 68,
      "outputs": []
    },
    {
      "cell_type": "code",
      "metadata": {
        "id": "Z5tf4FwS5vRW"
      },
      "source": [
        "#Encerrando a conexão\r\n",
        "c.close()\r\n",
        "conn.close()\r\n"
      ],
      "execution_count": 69,
      "outputs": []
    },
    {
      "cell_type": "markdown",
      "metadata": {
        "id": "bg0vM7f363gl"
      },
      "source": [
        "# **Instruções Select no SQLite com Python**"
      ]
    },
    {
      "cell_type": "code",
      "metadata": {
        "id": "9M27Dk9n53EX"
      },
      "source": [
        "import sqlite3\r\n",
        "import random\r\n",
        "import time\r\n",
        "import datetime\r\n",
        "\r\n",
        "# Criando uma conexão \r\n",
        "conn = sqlite3.connect('dsa.db')\r\n",
        "\r\n",
        "# Criando um cursor\r\n",
        "c = conn.cursor()\r\n",
        "\r\n",
        "# Função para criar uma tabela \r\n",
        "def create_table():\r\n",
        "  c.execute('CREATE TABLE IF NOT EXISTS produtos(id INTEGER PRIMARY KEY AUTOINCREMENT NOT NULL, date TEXT, '\\\r\n",
        "            'prod_name TEXT, valor REAL)')\r\n",
        "\r\n",
        "# Função para inserir os dados na tabela\r\n",
        "def data_insert():\r\n",
        "  c.execute(\"INSERT INTO produtos VALUES('2018-05-02 12:34:45', 'Teclado', 130.00)\")\r\n",
        "  conn.commit()\r\n",
        "  c.close()\r\n",
        "  conn.close()\r\n",
        "\r\n",
        "#Usando variáveis do Python para inserir novos dados na tabela\r\n",
        "def data_insert_var(): \r\n",
        "  new_date = datetime.datetime.now()\r\n",
        "  new_prod_name = 'Monitor'\r\n",
        "  new_valor = random.randrange(50, 100)\r\n",
        "  c.execute('INSERT INTO produtos (date, prod_name, valor) VALUES (?, ?, ?)', (new_date, new_prod_name, new_valor))\r\n",
        "  conn.commit()\r\n",
        "\r\n",
        "\r\n",
        "\r\n",
        "# Leitura de dados\r\n",
        "def ler_todos_dados():\r\n",
        "  c.execute(\"SELECT * FROM PRODUTOS\")\r\n",
        "  for linha in c.fetchall():\r\n",
        "    print(linha)\r\n",
        "\r\n",
        "# Leitura de registros específicos\r\n",
        "def leitura_registros():\r\n",
        "  c.execute(\"SELECT * FROM PRODUTOS WHERE valor > 60.0\")\r\n",
        "  for linha in c.fetchall():\r\n",
        "    print(linha)\r\n",
        "\r\n",
        "# Leitura de colunas específicas\r\n",
        "def leitura_colunas():\r\n",
        "  c.execute(\"SELECT * FROM PRODUTOS\")\r\n",
        "  for linha in c.fetchall():\r\n",
        "    print(linha[3])"
      ],
      "execution_count": 78,
      "outputs": []
    },
    {
      "cell_type": "code",
      "metadata": {
        "colab": {
          "base_uri": "https://localhost:8080/"
        },
        "id": "vb-0QJNj78p9",
        "outputId": "88acdbcc-e40a-4898-996a-4c50c51eec80"
      },
      "source": [
        "#Select nos dados\r\n",
        "ler_todos_dados()"
      ],
      "execution_count": 75,
      "outputs": [
        {
          "output_type": "stream",
          "text": [
            "(10, '2018-05-02 14:32:11', 'Teclado', 90.0)\n",
            "(11, '2020-12-15 14:56:21.212040', 'Monitor', 55.0)\n",
            "(12, '2020-12-15 14:56:22.223990', 'Monitor', 71.0)\n",
            "(13, '2020-12-15 14:56:23.233973', 'Monitor', 68.0)\n",
            "(14, '2020-12-15 14:56:24.244177', 'Monitor', 64.0)\n",
            "(15, '2020-12-15 14:56:25.253699', 'Monitor', 59.0)\n",
            "(16, '2020-12-15 14:56:26.264720', 'Monitor', 60.0)\n",
            "(17, '2020-12-15 14:56:27.275449', 'Monitor', 81.0)\n",
            "(18, '2020-12-15 14:56:28.285923', 'Monitor', 52.0)\n",
            "(19, '2020-12-15 14:56:29.297618', 'Monitor', 54.0)\n",
            "(20, '2020-12-15 14:56:30.308183', 'Monitor', 83.0)\n"
          ],
          "name": "stdout"
        }
      ]
    },
    {
      "cell_type": "code",
      "metadata": {
        "colab": {
          "base_uri": "https://localhost:8080/"
        },
        "id": "LkZaXqRB8B5Z",
        "outputId": "40d88cce-c49e-4ad4-c486-a70cca0d5b2f"
      },
      "source": [
        "#Leitura de registros especificos \r\n",
        "leitura_registros()"
      ],
      "execution_count": 76,
      "outputs": [
        {
          "output_type": "stream",
          "text": [
            "(10, '2018-05-02 14:32:11', 'Teclado', 90.0)\n",
            "(12, '2020-12-15 14:56:22.223990', 'Monitor', 71.0)\n",
            "(13, '2020-12-15 14:56:23.233973', 'Monitor', 68.0)\n",
            "(14, '2020-12-15 14:56:24.244177', 'Monitor', 64.0)\n",
            "(17, '2020-12-15 14:56:27.275449', 'Monitor', 81.0)\n",
            "(20, '2020-12-15 14:56:30.308183', 'Monitor', 83.0)\n"
          ],
          "name": "stdout"
        }
      ]
    },
    {
      "cell_type": "code",
      "metadata": {
        "colab": {
          "base_uri": "https://localhost:8080/"
        },
        "id": "gmm4I7h58Lp_",
        "outputId": "4189e20c-2736-4772-c9bd-b3d12aa3c160"
      },
      "source": [
        "# Leitura de colunas especificas\r\n",
        "leitura_colunas()"
      ],
      "execution_count": 79,
      "outputs": [
        {
          "output_type": "stream",
          "text": [
            "90.0\n",
            "55.0\n",
            "71.0\n",
            "68.0\n",
            "64.0\n",
            "59.0\n",
            "60.0\n",
            "81.0\n",
            "52.0\n",
            "54.0\n",
            "83.0\n"
          ],
          "name": "stdout"
        }
      ]
    },
    {
      "cell_type": "code",
      "metadata": {
        "id": "JLCtXu858vTP"
      },
      "source": [
        "# Encerrando a conexao\r\n",
        "c.close()\r\n",
        "conn.close()"
      ],
      "execution_count": 80,
      "outputs": []
    }
  ]
}
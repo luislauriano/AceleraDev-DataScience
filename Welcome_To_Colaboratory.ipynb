{
  "nbformat": 4,
  "nbformat_minor": 0,
  "metadata": {
    "colab": {
      "name": "Welcome To Colaboratory",
      "provenance": [],
      "collapsed_sections": [],
      "include_colab_link": true
    },
    "kernelspec": {
      "display_name": "Python 3",
      "name": "python3"
    }
  },
  "cells": [
    {
      "cell_type": "markdown",
      "metadata": {
        "id": "view-in-github",
        "colab_type": "text"
      },
      "source": [
        "<a href=\"https://colab.research.google.com/github/luislauriano/Materiais-de-estudo/blob/master/Welcome_To_Colaboratory.ipynb\" target=\"_parent\"><img src=\"https://colab.research.google.com/assets/colab-badge.svg\" alt=\"Open In Colab\"/></a>"
      ]
    },
    {
      "cell_type": "markdown",
      "metadata": {
        "id": "Y8isYUGeaZRK",
        "colab_type": "text"
      },
      "source": [
        "Referencias:\n",
        "\n",
        "* Feature Eng: https://colab.research.google.com/drive/18pxEJkkfrny3uO4834xKVxjEVWABDCd-#scrollTo=urvTyUfHrVrJ\n",
        "* Classificação: https://colab.research.google.com/drive/1Pa-kC3FYNoIZ05y5CWoBO2kqMQApBBOR\n",
        "* Metricas de Ml p/ classificação: https://medium.com/hugo-ferreiras-blog/confusion-matrix-and-other-metrics-in-machine-learning-894688cb1c0a\n",
        "* Karinne: https://github.com/karinnecristina/AceleraDev_Codenation/blob/master/Desafio_7/enem_2.ipynb"
      ]
    }
  ]
}